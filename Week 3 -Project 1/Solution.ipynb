{
 "cells": [
  {
   "cell_type": "markdown",
   "metadata": {},
   "source": [
    "# **Solution of Week 3 - Project 1**"
   ]
  },
  {
   "cell_type": "code",
   "execution_count": 228,
   "metadata": {},
   "outputs": [
    {
     "name": "stdout",
     "output_type": "stream",
     "text": [
      "Python 3.9.7\n"
     ]
    }
   ],
   "source": [
    "!python --version"
   ]
  },
  {
   "cell_type": "markdown",
   "metadata": {},
   "source": [
    "<hr>"
   ]
  },
  {
   "cell_type": "markdown",
   "metadata": {},
   "source": [
    "### **0. Loading Packages and Dataset:**"
   ]
  },
  {
   "cell_type": "code",
   "execution_count": 229,
   "metadata": {},
   "outputs": [],
   "source": [
    "import numpy as np\n",
    "import pandas as pd\n",
    "import re\n",
    "from sklearn.preprocessing import LabelEncoder"
   ]
  },
  {
   "cell_type": "code",
   "execution_count": 230,
   "metadata": {},
   "outputs": [],
   "source": [
    "import os\n",
    "# Replace the path with the path of the folder where you have saved the data files\n",
    "os.chdir(r'C:\\Users\\soura\\Courses\\GrrowUp Data Analytics\\3. Week 3 -  Data Cleaning\\Week 3 -Project 1')"
   ]
  },
  {
   "cell_type": "code",
   "execution_count": 231,
   "metadata": {},
   "outputs": [],
   "source": [
    "dataset = pd.read_csv('dataset.csv')"
   ]
  },
  {
   "cell_type": "code",
   "execution_count": 232,
   "metadata": {},
   "outputs": [
    {
     "data": {
      "text/html": [
       "<div>\n",
       "<style scoped>\n",
       "    .dataframe tbody tr th:only-of-type {\n",
       "        vertical-align: middle;\n",
       "    }\n",
       "\n",
       "    .dataframe tbody tr th {\n",
       "        vertical-align: top;\n",
       "    }\n",
       "\n",
       "    .dataframe thead th {\n",
       "        text-align: right;\n",
       "    }\n",
       "</style>\n",
       "<table border=\"1\" class=\"dataframe\">\n",
       "  <thead>\n",
       "    <tr style=\"text-align: right;\">\n",
       "      <th></th>\n",
       "      <th>Index</th>\n",
       "      <th>Age</th>\n",
       "      <th>Salary</th>\n",
       "      <th>Rating</th>\n",
       "      <th>Location</th>\n",
       "      <th>Established</th>\n",
       "      <th>Easy Apply</th>\n",
       "    </tr>\n",
       "  </thead>\n",
       "  <tbody>\n",
       "    <tr>\n",
       "      <th>0</th>\n",
       "      <td>0</td>\n",
       "      <td>44.0</td>\n",
       "      <td>$44k-$99k</td>\n",
       "      <td>5.4</td>\n",
       "      <td>India,In</td>\n",
       "      <td>1999</td>\n",
       "      <td>TRUE</td>\n",
       "    </tr>\n",
       "    <tr>\n",
       "      <th>1</th>\n",
       "      <td>1</td>\n",
       "      <td>66.0</td>\n",
       "      <td>$55k-$66k</td>\n",
       "      <td>3.5</td>\n",
       "      <td>New York,Ny</td>\n",
       "      <td>2002</td>\n",
       "      <td>TRUE</td>\n",
       "    </tr>\n",
       "    <tr>\n",
       "      <th>2</th>\n",
       "      <td>2</td>\n",
       "      <td>NaN</td>\n",
       "      <td>$77k-$89k</td>\n",
       "      <td>-1.0</td>\n",
       "      <td>New York,Ny</td>\n",
       "      <td>-1</td>\n",
       "      <td>-1</td>\n",
       "    </tr>\n",
       "    <tr>\n",
       "      <th>3</th>\n",
       "      <td>3</td>\n",
       "      <td>64.0</td>\n",
       "      <td>$44k-$99k</td>\n",
       "      <td>4.4</td>\n",
       "      <td>India In</td>\n",
       "      <td>1988</td>\n",
       "      <td>-1</td>\n",
       "    </tr>\n",
       "    <tr>\n",
       "      <th>4</th>\n",
       "      <td>4</td>\n",
       "      <td>25.0</td>\n",
       "      <td>$44k-$99k</td>\n",
       "      <td>6.4</td>\n",
       "      <td>Australia Aus</td>\n",
       "      <td>2002</td>\n",
       "      <td>-1</td>\n",
       "    </tr>\n",
       "  </tbody>\n",
       "</table>\n",
       "</div>"
      ],
      "text/plain": [
       "   Index   Age     Salary  Rating       Location  Established Easy Apply\n",
       "0      0  44.0  $44k-$99k     5.4       India,In         1999       TRUE\n",
       "1      1  66.0  $55k-$66k     3.5    New York,Ny         2002       TRUE\n",
       "2      2   NaN  $77k-$89k    -1.0    New York,Ny           -1         -1\n",
       "3      3  64.0  $44k-$99k     4.4       India In         1988         -1\n",
       "4      4  25.0  $44k-$99k     6.4  Australia Aus         2002         -1"
      ]
     },
     "execution_count": 232,
     "metadata": {},
     "output_type": "execute_result"
    }
   ],
   "source": [
    "dataset.head()"
   ]
  },
  {
   "cell_type": "markdown",
   "metadata": {},
   "source": [
    "<hr>"
   ]
  },
  {
   "cell_type": "markdown",
   "metadata": {},
   "source": [
    "### **1. Missing Values:**"
   ]
  },
  {
   "cell_type": "code",
   "execution_count": 233,
   "metadata": {},
   "outputs": [
    {
     "data": {
      "text/plain": [
       "Index          0\n",
       "Age            7\n",
       "Salary         0\n",
       "Rating         1\n",
       "Location       0\n",
       "Established    0\n",
       "Easy Apply     0\n",
       "dtype: int64"
      ]
     },
     "execution_count": 233,
     "metadata": {},
     "output_type": "execute_result"
    }
   ],
   "source": [
    "dataset.isna().sum()"
   ]
  },
  {
   "cell_type": "markdown",
   "metadata": {},
   "source": [
    "- As we can see there are a few missing values namely:\n",
    "  - **7** records in Age column\n",
    "  - **1** record in Rating column\n",
    "\n",
    "- **To handle missing values we can take the average of the other records and fill the missing columns of the records as follows:**"
   ]
  },
  {
   "cell_type": "code",
   "execution_count": 234,
   "metadata": {},
   "outputs": [],
   "source": [
    "avgAge = round(dataset['Age'].mean(),2)\n",
    "\n",
    "avgRating = round(dataset['Rating'].mean(),2)"
   ]
  },
  {
   "cell_type": "code",
   "execution_count": 235,
   "metadata": {},
   "outputs": [],
   "source": [
    "dataset['Age'].fillna(avgAge, inplace = True)\n",
    "dataset['Rating'].fillna(avgRating, inplace = True)"
   ]
  },
  {
   "cell_type": "code",
   "execution_count": 236,
   "metadata": {},
   "outputs": [
    {
     "data": {
      "text/plain": [
       "Index          0\n",
       "Age            0\n",
       "Salary         0\n",
       "Rating         0\n",
       "Location       0\n",
       "Established    0\n",
       "Easy Apply     0\n",
       "dtype: int64"
      ]
     },
     "execution_count": 236,
     "metadata": {},
     "output_type": "execute_result"
    }
   ],
   "source": [
    "dataset.isnull().sum()"
   ]
  },
  {
   "cell_type": "code",
   "execution_count": 237,
   "metadata": {},
   "outputs": [
    {
     "data": {
      "text/html": [
       "<div>\n",
       "<style scoped>\n",
       "    .dataframe tbody tr th:only-of-type {\n",
       "        vertical-align: middle;\n",
       "    }\n",
       "\n",
       "    .dataframe tbody tr th {\n",
       "        vertical-align: top;\n",
       "    }\n",
       "\n",
       "    .dataframe thead th {\n",
       "        text-align: right;\n",
       "    }\n",
       "</style>\n",
       "<table border=\"1\" class=\"dataframe\">\n",
       "  <thead>\n",
       "    <tr style=\"text-align: right;\">\n",
       "      <th></th>\n",
       "      <th>Index</th>\n",
       "      <th>Age</th>\n",
       "      <th>Salary</th>\n",
       "      <th>Rating</th>\n",
       "      <th>Location</th>\n",
       "      <th>Established</th>\n",
       "      <th>Easy Apply</th>\n",
       "    </tr>\n",
       "  </thead>\n",
       "  <tbody>\n",
       "    <tr>\n",
       "      <th>0</th>\n",
       "      <td>0</td>\n",
       "      <td>44.00</td>\n",
       "      <td>$44k-$99k</td>\n",
       "      <td>5.4</td>\n",
       "      <td>India,In</td>\n",
       "      <td>1999</td>\n",
       "      <td>TRUE</td>\n",
       "    </tr>\n",
       "    <tr>\n",
       "      <th>1</th>\n",
       "      <td>1</td>\n",
       "      <td>66.00</td>\n",
       "      <td>$55k-$66k</td>\n",
       "      <td>3.5</td>\n",
       "      <td>New York,Ny</td>\n",
       "      <td>2002</td>\n",
       "      <td>TRUE</td>\n",
       "    </tr>\n",
       "    <tr>\n",
       "      <th>2</th>\n",
       "      <td>2</td>\n",
       "      <td>39.05</td>\n",
       "      <td>$77k-$89k</td>\n",
       "      <td>-1.0</td>\n",
       "      <td>New York,Ny</td>\n",
       "      <td>-1</td>\n",
       "      <td>-1</td>\n",
       "    </tr>\n",
       "    <tr>\n",
       "      <th>3</th>\n",
       "      <td>3</td>\n",
       "      <td>64.00</td>\n",
       "      <td>$44k-$99k</td>\n",
       "      <td>4.4</td>\n",
       "      <td>India In</td>\n",
       "      <td>1988</td>\n",
       "      <td>-1</td>\n",
       "    </tr>\n",
       "    <tr>\n",
       "      <th>4</th>\n",
       "      <td>4</td>\n",
       "      <td>25.00</td>\n",
       "      <td>$44k-$99k</td>\n",
       "      <td>6.4</td>\n",
       "      <td>Australia Aus</td>\n",
       "      <td>2002</td>\n",
       "      <td>-1</td>\n",
       "    </tr>\n",
       "  </tbody>\n",
       "</table>\n",
       "</div>"
      ],
      "text/plain": [
       "   Index    Age     Salary  Rating       Location  Established Easy Apply\n",
       "0      0  44.00  $44k-$99k     5.4       India,In         1999       TRUE\n",
       "1      1  66.00  $55k-$66k     3.5    New York,Ny         2002       TRUE\n",
       "2      2  39.05  $77k-$89k    -1.0    New York,Ny           -1         -1\n",
       "3      3  64.00  $44k-$99k     4.4       India In         1988         -1\n",
       "4      4  25.00  $44k-$99k     6.4  Australia Aus         2002         -1"
      ]
     },
     "execution_count": 237,
     "metadata": {},
     "output_type": "execute_result"
    }
   ],
   "source": [
    "dataset.head()"
   ]
  },
  {
   "cell_type": "markdown",
   "metadata": {},
   "source": [
    "- Now we have replaced all missing values in the dataset with thier average value."
   ]
  },
  {
   "cell_type": "markdown",
   "metadata": {},
   "source": [
    "<hr>"
   ]
  },
  {
   "cell_type": "markdown",
   "metadata": {},
   "source": [
    "### **2. Data Types:**"
   ]
  },
  {
   "cell_type": "code",
   "execution_count": 238,
   "metadata": {},
   "outputs": [
    {
     "name": "stdout",
     "output_type": "stream",
     "text": [
      "<class 'pandas.core.frame.DataFrame'>\n",
      "RangeIndex: 29 entries, 0 to 28\n",
      "Data columns (total 7 columns):\n",
      " #   Column       Non-Null Count  Dtype  \n",
      "---  ------       --------------  -----  \n",
      " 0   Index        29 non-null     int64  \n",
      " 1   Age          29 non-null     float64\n",
      " 2   Salary       29 non-null     object \n",
      " 3   Rating       29 non-null     float64\n",
      " 4   Location     29 non-null     object \n",
      " 5   Established  29 non-null     int64  \n",
      " 6   Easy Apply   29 non-null     object \n",
      "dtypes: float64(2), int64(2), object(3)\n",
      "memory usage: 1.7+ KB\n"
     ]
    }
   ],
   "source": [
    "dataset.info()"
   ]
  },
  {
   "cell_type": "markdown",
   "metadata": {},
   "source": [
    "- As we can seem some columns have mismatched datatypes\n",
    "  - Salary Column is of **Object** datatype where it should be **float64**.\n",
    "  - Easy Apply Column is of **Object** datatype where it should be **bool**.\n",
    "- To fix such discrepancies we have to clean the dataset and a make sure the datatypes correspond with each column"
   ]
  },
  {
   "cell_type": "markdown",
   "metadata": {},
   "source": [
    "<hr>"
   ]
  },
  {
   "cell_type": "markdown",
   "metadata": {},
   "source": [
    "### **3. Outliers:**"
   ]
  },
  {
   "cell_type": "markdown",
   "metadata": {},
   "source": [
    "- To find out outliers in the dataset, we'll be using box plots to visualize."
   ]
  },
  {
   "cell_type": "code",
   "execution_count": 239,
   "metadata": {},
   "outputs": [],
   "source": [
    "import matplotlib.pyplot as plt"
   ]
  },
  {
   "cell_type": "code",
   "execution_count": 240,
   "metadata": {},
   "outputs": [
    {
     "data": {
      "image/png": "[encoded data removed]",
      "text/plain": [
       "<Figure size 1296x432 with 3 Axes>"
      ]
     },
     "metadata": {
      "needs_background": "light"
     },
     "output_type": "display_data"
    }
   ],
   "source": [
    "fig, ax = plt.subplots(1, 3, figsize=(18, 6))\n",
    "\n",
    "dataset.boxplot(column=['Age'], ax=ax[0])\n",
    "ax[0].set_title('Box Plot of Age')\n",
    "\n",
    "dataset.boxplot(column=['Rating'], ax=ax[1])\n",
    "ax[1].set_title('Box Plot of Rating')\n",
    "\n",
    "dataset.boxplot(column=['Established'], ax=ax[2])\n",
    "ax[2].set_title('Box Plot of Established')\n",
    "\n",
    "plt.show()"
   ]
  },
  {
   "cell_type": "markdown",
   "metadata": {},
   "source": [
    "- As Seen from the above box plots, there seem to be some outliers in the data, these can be adjusted after further cleaning the data\n",
    "  - Further, we cannot check for outliers in the Salary Column as it is in Object Dtype, so we have to manipulate the data further to compute outliers"
   ]
  },
  {
   "cell_type": "markdown",
   "metadata": {},
   "source": [
    "<hr>"
   ]
  },
  {
   "cell_type": "markdown",
   "metadata": {},
   "source": [
    "### **4. Salary Formatting:**"
   ]
  },
  {
   "cell_type": "code",
   "execution_count": 241,
   "metadata": {},
   "outputs": [
    {
     "data": {
      "text/plain": [
       "0      $44k-$99k\n",
       "1      $55k-$66k\n",
       "2      $77k-$89k\n",
       "3      $44k-$99k\n",
       "4      $44k-$99k\n",
       "5      $77k-$89k\n",
       "6      $44k-$99k\n",
       "7      $44k-$99k\n",
       "8      $44k-$99k\n",
       "9      $44k-$99k\n",
       "10     $10k-$49k\n",
       "11     $10k-$49k\n",
       "12     $44k-$99k\n",
       "13     $44k-$99k\n",
       "14     $44k-$99k\n",
       "15    $88k-$101k\n",
       "16     $19k-$40k\n",
       "17     $44k-$99k\n",
       "18     $44k-$99k\n",
       "19     $44k-$99k\n",
       "20     $44k-$99k\n",
       "21     $44k-$99k\n",
       "22     $55k-$66k\n",
       "23     $44k-$99k\n",
       "24     $44k-$99k\n",
       "25     $44k-$99k\n",
       "26     $55k-$66k\n",
       "27     $44k-$99k\n",
       "28     $39k-$88k\n",
       "Name: Salary, dtype: object"
      ]
     },
     "execution_count": 241,
     "metadata": {},
     "output_type": "execute_result"
    }
   ],
   "source": [
    "dataset['Salary']"
   ]
  },
  {
   "cell_type": "markdown",
   "metadata": {},
   "source": [
    "- As we can see from the Salary column, the data is in a range from $xx to $yy, which is not suitable for us to compute it properly\n",
    "  \n",
    "- We can format and standardize the data by splitting the Salary Column into Two different columns being - **Mininum Salary** & **Maximum Salary**\n",
    "- Or we could convert the Salary Column into a **Median Salary** Column, which is the apporach we'll be using."
   ]
  },
  {
   "cell_type": "markdown",
   "metadata": {},
   "source": [
    "We define a function to extract median salary"
   ]
  },
  {
   "cell_type": "code",
   "execution_count": 242,
   "metadata": {},
   "outputs": [],
   "source": [
    "def extract_median_salary(salary_range):\n",
    "    salary_parts = salary_range.strip('$').replace('k', '').split('-')\n",
    "    salary_values = [int(part) for part in salary_parts if part.isdigit()]\n",
    "    return (sum(salary_values) / 2)*1000"
   ]
  },
  {
   "cell_type": "markdown",
   "metadata": {},
   "source": [
    "And then we apply it to the dataset"
   ]
  },
  {
   "cell_type": "code",
   "execution_count": 243,
   "metadata": {},
   "outputs": [],
   "source": [
    "dataset['Salary'] = dataset['Salary'].apply(extract_median_salary)"
   ]
  },
  {
   "cell_type": "code",
   "execution_count": 244,
   "metadata": {},
   "outputs": [],
   "source": [
    "dataset.rename(columns={'Salary': 'Median Salary'}, inplace=True)"
   ]
  },
  {
   "cell_type": "code",
   "execution_count": 245,
   "metadata": {},
   "outputs": [
    {
     "data": {
      "text/html": [
       "<div>\n",
       "<style scoped>\n",
       "    .dataframe tbody tr th:only-of-type {\n",
       "        vertical-align: middle;\n",
       "    }\n",
       "\n",
       "    .dataframe tbody tr th {\n",
       "        vertical-align: top;\n",
       "    }\n",
       "\n",
       "    .dataframe thead th {\n",
       "        text-align: right;\n",
       "    }\n",
       "</style>\n",
       "<table border=\"1\" class=\"dataframe\">\n",
       "  <thead>\n",
       "    <tr style=\"text-align: right;\">\n",
       "      <th></th>\n",
       "      <th>Index</th>\n",
       "      <th>Age</th>\n",
       "      <th>Median Salary</th>\n",
       "      <th>Rating</th>\n",
       "      <th>Location</th>\n",
       "      <th>Established</th>\n",
       "      <th>Easy Apply</th>\n",
       "    </tr>\n",
       "  </thead>\n",
       "  <tbody>\n",
       "    <tr>\n",
       "      <th>0</th>\n",
       "      <td>0</td>\n",
       "      <td>44.00</td>\n",
       "      <td>22000.0</td>\n",
       "      <td>5.4</td>\n",
       "      <td>India,In</td>\n",
       "      <td>1999</td>\n",
       "      <td>TRUE</td>\n",
       "    </tr>\n",
       "    <tr>\n",
       "      <th>1</th>\n",
       "      <td>1</td>\n",
       "      <td>66.00</td>\n",
       "      <td>27500.0</td>\n",
       "      <td>3.5</td>\n",
       "      <td>New York,Ny</td>\n",
       "      <td>2002</td>\n",
       "      <td>TRUE</td>\n",
       "    </tr>\n",
       "    <tr>\n",
       "      <th>2</th>\n",
       "      <td>2</td>\n",
       "      <td>39.05</td>\n",
       "      <td>38500.0</td>\n",
       "      <td>-1.0</td>\n",
       "      <td>New York,Ny</td>\n",
       "      <td>-1</td>\n",
       "      <td>-1</td>\n",
       "    </tr>\n",
       "    <tr>\n",
       "      <th>3</th>\n",
       "      <td>3</td>\n",
       "      <td>64.00</td>\n",
       "      <td>22000.0</td>\n",
       "      <td>4.4</td>\n",
       "      <td>India In</td>\n",
       "      <td>1988</td>\n",
       "      <td>-1</td>\n",
       "    </tr>\n",
       "    <tr>\n",
       "      <th>4</th>\n",
       "      <td>4</td>\n",
       "      <td>25.00</td>\n",
       "      <td>22000.0</td>\n",
       "      <td>6.4</td>\n",
       "      <td>Australia Aus</td>\n",
       "      <td>2002</td>\n",
       "      <td>-1</td>\n",
       "    </tr>\n",
       "  </tbody>\n",
       "</table>\n",
       "</div>"
      ],
      "text/plain": [
       "   Index    Age  Median Salary  Rating       Location  Established Easy Apply\n",
       "0      0  44.00        22000.0     5.4       India,In         1999       TRUE\n",
       "1      1  66.00        27500.0     3.5    New York,Ny         2002       TRUE\n",
       "2      2  39.05        38500.0    -1.0    New York,Ny           -1         -1\n",
       "3      3  64.00        22000.0     4.4       India In         1988         -1\n",
       "4      4  25.00        22000.0     6.4  Australia Aus         2002         -1"
      ]
     },
     "execution_count": 245,
     "metadata": {},
     "output_type": "execute_result"
    }
   ],
   "source": [
    "dataset.head()"
   ]
  },
  {
   "cell_type": "markdown",
   "metadata": {},
   "source": [
    "- Now we have a much more descriptive **Median Salary Column**"
   ]
  },
  {
   "cell_type": "markdown",
   "metadata": {},
   "source": [
    "<hr>"
   ]
  },
  {
   "cell_type": "markdown",
   "metadata": {},
   "source": [
    "### **5. Location Formatting:** & **10. Handling Special Characters:**"
   ]
  },
  {
   "cell_type": "code",
   "execution_count": 246,
   "metadata": {},
   "outputs": [
    {
     "data": {
      "text/plain": [
       "0          India,In\n",
       "1       New York,Ny\n",
       "2       New York,Ny\n",
       "3          India In\n",
       "4     Australia Aus\n",
       "5          India,In\n",
       "6       New York,Ny\n",
       "7     Australia Aus\n",
       "8       New York,Ny\n",
       "9          India,In\n",
       "10         India,In\n",
       "11         India,In\n",
       "12         India,In\n",
       "13    Australia Aus\n",
       "14    Australia Aus\n",
       "15    Australia Aus\n",
       "16         India,In\n",
       "17      New York,Ny\n",
       "18      New York,Ny\n",
       "19      New York,Ny\n",
       "20      New York,Ny\n",
       "21      New York,Ny\n",
       "22      New York,Ny\n",
       "23      New York,Ny\n",
       "24      New York,Ny\n",
       "25    Australia Aus\n",
       "26         India,In\n",
       "27         India,In\n",
       "28    Australia Aus\n",
       "Name: Location, dtype: object"
      ]
     },
     "execution_count": 246,
     "metadata": {},
     "output_type": "execute_result"
    }
   ],
   "source": [
    "dataset['Location']"
   ]
  },
  {
   "cell_type": "markdown",
   "metadata": {},
   "source": [
    "- As we can see from the Location Column, there are some inconsistencies in the formatting of the Location name"
   ]
  },
  {
   "cell_type": "code",
   "execution_count": 247,
   "metadata": {},
   "outputs": [],
   "source": [
    "def standardize_location(location):\n",
    "    if pd.isna(location):\n",
    "        return location\n",
    "\n",
    "    if ',' not in location:\n",
    "        parts = location.split()\n",
    "        if len(parts) > 1:\n",
    "            location = ', '.join(parts)\n",
    "    \n",
    "    standardized_location = re.sub(r'\\s+', ' ', location.strip()).title()\n",
    "    standardized_location = re.sub(r',\\s*', ', ', location)\n",
    "    return standardized_location"
   ]
  },
  {
   "cell_type": "code",
   "execution_count": 248,
   "metadata": {},
   "outputs": [],
   "source": [
    "dataset['Location'] = dataset['Location'].apply(standardize_location)"
   ]
  },
  {
   "cell_type": "code",
   "execution_count": 249,
   "metadata": {},
   "outputs": [
    {
     "data": {
      "text/html": [
       "<div>\n",
       "<style scoped>\n",
       "    .dataframe tbody tr th:only-of-type {\n",
       "        vertical-align: middle;\n",
       "    }\n",
       "\n",
       "    .dataframe tbody tr th {\n",
       "        vertical-align: top;\n",
       "    }\n",
       "\n",
       "    .dataframe thead th {\n",
       "        text-align: right;\n",
       "    }\n",
       "</style>\n",
       "<table border=\"1\" class=\"dataframe\">\n",
       "  <thead>\n",
       "    <tr style=\"text-align: right;\">\n",
       "      <th></th>\n",
       "      <th>Index</th>\n",
       "      <th>Age</th>\n",
       "      <th>Median Salary</th>\n",
       "      <th>Rating</th>\n",
       "      <th>Location</th>\n",
       "      <th>Established</th>\n",
       "      <th>Easy Apply</th>\n",
       "    </tr>\n",
       "  </thead>\n",
       "  <tbody>\n",
       "    <tr>\n",
       "      <th>0</th>\n",
       "      <td>0</td>\n",
       "      <td>44.00</td>\n",
       "      <td>22000.0</td>\n",
       "      <td>5.4</td>\n",
       "      <td>India, In</td>\n",
       "      <td>1999</td>\n",
       "      <td>TRUE</td>\n",
       "    </tr>\n",
       "    <tr>\n",
       "      <th>1</th>\n",
       "      <td>1</td>\n",
       "      <td>66.00</td>\n",
       "      <td>27500.0</td>\n",
       "      <td>3.5</td>\n",
       "      <td>New York, Ny</td>\n",
       "      <td>2002</td>\n",
       "      <td>TRUE</td>\n",
       "    </tr>\n",
       "    <tr>\n",
       "      <th>2</th>\n",
       "      <td>2</td>\n",
       "      <td>39.05</td>\n",
       "      <td>38500.0</td>\n",
       "      <td>-1.0</td>\n",
       "      <td>New York, Ny</td>\n",
       "      <td>-1</td>\n",
       "      <td>-1</td>\n",
       "    </tr>\n",
       "    <tr>\n",
       "      <th>3</th>\n",
       "      <td>3</td>\n",
       "      <td>64.00</td>\n",
       "      <td>22000.0</td>\n",
       "      <td>4.4</td>\n",
       "      <td>India, In</td>\n",
       "      <td>1988</td>\n",
       "      <td>-1</td>\n",
       "    </tr>\n",
       "    <tr>\n",
       "      <th>4</th>\n",
       "      <td>4</td>\n",
       "      <td>25.00</td>\n",
       "      <td>22000.0</td>\n",
       "      <td>6.4</td>\n",
       "      <td>Australia, Aus</td>\n",
       "      <td>2002</td>\n",
       "      <td>-1</td>\n",
       "    </tr>\n",
       "  </tbody>\n",
       "</table>\n",
       "</div>"
      ],
      "text/plain": [
       "   Index    Age  Median Salary  Rating        Location  Established Easy Apply\n",
       "0      0  44.00        22000.0     5.4       India, In         1999       TRUE\n",
       "1      1  66.00        27500.0     3.5    New York, Ny         2002       TRUE\n",
       "2      2  39.05        38500.0    -1.0    New York, Ny           -1         -1\n",
       "3      3  64.00        22000.0     4.4       India, In         1988         -1\n",
       "4      4  25.00        22000.0     6.4  Australia, Aus         2002         -1"
      ]
     },
     "execution_count": 249,
     "metadata": {},
     "output_type": "execute_result"
    }
   ],
   "source": [
    "dataset.head()"
   ]
  },
  {
   "cell_type": "markdown",
   "metadata": {},
   "source": [
    "- Now we have standardized the fomatting for the Location Column"
   ]
  },
  {
   "cell_type": "markdown",
   "metadata": {},
   "source": [
    "<hr>"
   ]
  },
  {
   "cell_type": "markdown",
   "metadata": {},
   "source": [
    "### **6. Established Column:**"
   ]
  },
  {
   "cell_type": "code",
   "execution_count": 250,
   "metadata": {},
   "outputs": [
    {
     "data": {
      "text/plain": [
       "0     1999\n",
       "1     2002\n",
       "2       -1\n",
       "3     1988\n",
       "4     2002\n",
       "5     1999\n",
       "6       -1\n",
       "7       -1\n",
       "8       -1\n",
       "9       -1\n",
       "10    2008\n",
       "11    2009\n",
       "12    1999\n",
       "13    2019\n",
       "14    2020\n",
       "15    1999\n",
       "16    1984\n",
       "17    1943\n",
       "18    1954\n",
       "19    1955\n",
       "20    1944\n",
       "21    1946\n",
       "22    1988\n",
       "23    1999\n",
       "24    1987\n",
       "25    1980\n",
       "26    1934\n",
       "27    1935\n",
       "28    1932\n",
       "Name: Established, dtype: int64"
      ]
     },
     "execution_count": 250,
     "metadata": {},
     "output_type": "execute_result"
    }
   ],
   "source": [
    "dataset['Established']"
   ]
  },
  {
   "cell_type": "markdown",
   "metadata": {},
   "source": [
    "- As we can see from the Established Column, there are some anomalies in the data where some rows have established year as **\"-1\"**."
   ]
  },
  {
   "cell_type": "markdown",
   "metadata": {},
   "source": [
    "- To address this, we can just compute the mode of the Established columns and replace the anomalies as such"
   ]
  },
  {
   "cell_type": "code",
   "execution_count": 251,
   "metadata": {},
   "outputs": [],
   "source": [
    "EstablishedMode = dataset['Established'][dataset['Established']>0].mode()"
   ]
  },
  {
   "cell_type": "code",
   "execution_count": 252,
   "metadata": {},
   "outputs": [],
   "source": [
    "for each in dataset['Established']:\n",
    "    if each < 0:\n",
    "        dataset['Established'] = dataset['Established'].replace(each, EstablishedMode[0])"
   ]
  },
  {
   "cell_type": "code",
   "execution_count": 253,
   "metadata": {},
   "outputs": [
    {
     "data": {
      "text/plain": [
       "0     1999\n",
       "1     2002\n",
       "2     1999\n",
       "3     1988\n",
       "4     2002\n",
       "5     1999\n",
       "6     1999\n",
       "7     1999\n",
       "8     1999\n",
       "9     1999\n",
       "10    2008\n",
       "11    2009\n",
       "12    1999\n",
       "13    2019\n",
       "14    2020\n",
       "15    1999\n",
       "16    1984\n",
       "17    1943\n",
       "18    1954\n",
       "19    1955\n",
       "20    1944\n",
       "21    1946\n",
       "22    1988\n",
       "23    1999\n",
       "24    1987\n",
       "25    1980\n",
       "26    1934\n",
       "27    1935\n",
       "28    1932\n",
       "Name: Established, dtype: int64"
      ]
     },
     "execution_count": 253,
     "metadata": {},
     "output_type": "execute_result"
    }
   ],
   "source": [
    "dataset['Established']"
   ]
  },
  {
   "cell_type": "markdown",
   "metadata": {},
   "source": [
    "- As the data is in **YYYY** form now and we have dealt with all the anomalies, we do not need to standardize the data."
   ]
  },
  {
   "cell_type": "markdown",
   "metadata": {},
   "source": [
    "<hr>"
   ]
  },
  {
   "cell_type": "markdown",
   "metadata": {},
   "source": [
    "### **7. Easy Apply Indicator:** & **12. Easy Apply Transformation:**"
   ]
  },
  {
   "cell_type": "code",
   "execution_count": 254,
   "metadata": {},
   "outputs": [
    {
     "data": {
      "text/plain": [
       "0     TRUE\n",
       "1     TRUE\n",
       "2       -1\n",
       "3       -1\n",
       "4       -1\n",
       "5     TRUE\n",
       "6       -1\n",
       "7       -1\n",
       "8       -1\n",
       "9     TRUE\n",
       "10    TRUE\n",
       "11      -1\n",
       "12      -1\n",
       "13    TRUE\n",
       "14    TRUE\n",
       "15      -1\n",
       "16      -1\n",
       "17    TRUE\n",
       "18    TRUE\n",
       "19    TRUE\n",
       "20    TRUE\n",
       "21      -1\n",
       "22    TRUE\n",
       "23    TRUE\n",
       "24      -1\n",
       "25    TRUE\n",
       "26    TRUE\n",
       "27      -1\n",
       "28      -1\n",
       "Name: Easy Apply, dtype: object"
      ]
     },
     "execution_count": 254,
     "metadata": {},
     "output_type": "execute_result"
    }
   ],
   "source": [
    "dataset['Easy Apply']"
   ]
  },
  {
   "cell_type": "markdown",
   "metadata": {},
   "source": [
    "- As we can see from the Easy Apply Column, there are inconsistencies in the data,\n",
    "  - where the values are Either **TRUE** or **-1**\n",
    "  - It makes the data difficult to compute on, thus we'll be transforming this column into boolean data as such:"
   ]
  },
  {
   "cell_type": "code",
   "execution_count": 255,
   "metadata": {},
   "outputs": [],
   "source": [
    "for data in dataset['Easy Apply']:\n",
    "    if data == '-1':\n",
    "        dataset['Easy Apply'].replace(data, 0, inplace = True)\n",
    "    elif data == 'TRUE':\n",
    "        dataset['Easy Apply'].replace(data, 1, inplace = True)\n",
    "\n",
    "dataset['Easy Apply'] = dataset['Easy Apply'].astype(bool)"
   ]
  },
  {
   "cell_type": "code",
   "execution_count": 256,
   "metadata": {},
   "outputs": [
    {
     "data": {
      "text/html": [
       "<div>\n",
       "<style scoped>\n",
       "    .dataframe tbody tr th:only-of-type {\n",
       "        vertical-align: middle;\n",
       "    }\n",
       "\n",
       "    .dataframe tbody tr th {\n",
       "        vertical-align: top;\n",
       "    }\n",
       "\n",
       "    .dataframe thead th {\n",
       "        text-align: right;\n",
       "    }\n",
       "</style>\n",
       "<table border=\"1\" class=\"dataframe\">\n",
       "  <thead>\n",
       "    <tr style=\"text-align: right;\">\n",
       "      <th></th>\n",
       "      <th>Index</th>\n",
       "      <th>Age</th>\n",
       "      <th>Median Salary</th>\n",
       "      <th>Rating</th>\n",
       "      <th>Location</th>\n",
       "      <th>Established</th>\n",
       "      <th>Easy Apply</th>\n",
       "    </tr>\n",
       "  </thead>\n",
       "  <tbody>\n",
       "    <tr>\n",
       "      <th>0</th>\n",
       "      <td>0</td>\n",
       "      <td>44.00</td>\n",
       "      <td>22000.0</td>\n",
       "      <td>5.4</td>\n",
       "      <td>India, In</td>\n",
       "      <td>1999</td>\n",
       "      <td>True</td>\n",
       "    </tr>\n",
       "    <tr>\n",
       "      <th>1</th>\n",
       "      <td>1</td>\n",
       "      <td>66.00</td>\n",
       "      <td>27500.0</td>\n",
       "      <td>3.5</td>\n",
       "      <td>New York, Ny</td>\n",
       "      <td>2002</td>\n",
       "      <td>True</td>\n",
       "    </tr>\n",
       "    <tr>\n",
       "      <th>2</th>\n",
       "      <td>2</td>\n",
       "      <td>39.05</td>\n",
       "      <td>38500.0</td>\n",
       "      <td>-1.0</td>\n",
       "      <td>New York, Ny</td>\n",
       "      <td>1999</td>\n",
       "      <td>False</td>\n",
       "    </tr>\n",
       "    <tr>\n",
       "      <th>3</th>\n",
       "      <td>3</td>\n",
       "      <td>64.00</td>\n",
       "      <td>22000.0</td>\n",
       "      <td>4.4</td>\n",
       "      <td>India, In</td>\n",
       "      <td>1988</td>\n",
       "      <td>False</td>\n",
       "    </tr>\n",
       "    <tr>\n",
       "      <th>4</th>\n",
       "      <td>4</td>\n",
       "      <td>25.00</td>\n",
       "      <td>22000.0</td>\n",
       "      <td>6.4</td>\n",
       "      <td>Australia, Aus</td>\n",
       "      <td>2002</td>\n",
       "      <td>False</td>\n",
       "    </tr>\n",
       "  </tbody>\n",
       "</table>\n",
       "</div>"
      ],
      "text/plain": [
       "   Index    Age  Median Salary  Rating        Location  Established  \\\n",
       "0      0  44.00        22000.0     5.4       India, In         1999   \n",
       "1      1  66.00        27500.0     3.5    New York, Ny         2002   \n",
       "2      2  39.05        38500.0    -1.0    New York, Ny         1999   \n",
       "3      3  64.00        22000.0     4.4       India, In         1988   \n",
       "4      4  25.00        22000.0     6.4  Australia, Aus         2002   \n",
       "\n",
       "   Easy Apply  \n",
       "0        True  \n",
       "1        True  \n",
       "2       False  \n",
       "3       False  \n",
       "4       False  "
      ]
     },
     "execution_count": 256,
     "metadata": {},
     "output_type": "execute_result"
    }
   ],
   "source": [
    "dataset.head()"
   ]
  },
  {
   "cell_type": "code",
   "execution_count": 257,
   "metadata": {},
   "outputs": [
    {
     "name": "stdout",
     "output_type": "stream",
     "text": [
      "<class 'pandas.core.frame.DataFrame'>\n",
      "RangeIndex: 29 entries, 0 to 28\n",
      "Data columns (total 7 columns):\n",
      " #   Column         Non-Null Count  Dtype  \n",
      "---  ------         --------------  -----  \n",
      " 0   Index          29 non-null     int64  \n",
      " 1   Age            29 non-null     float64\n",
      " 2   Median Salary  29 non-null     float64\n",
      " 3   Rating         29 non-null     float64\n",
      " 4   Location       29 non-null     object \n",
      " 5   Established    29 non-null     int64  \n",
      " 6   Easy Apply     29 non-null     bool   \n",
      "dtypes: bool(1), float64(3), int64(2), object(1)\n",
      "memory usage: 1.5+ KB\n"
     ]
    }
   ],
   "source": [
    "dataset.info()"
   ]
  },
  {
   "cell_type": "markdown",
   "metadata": {},
   "source": [
    "- Now we have the Easy Apply Column transformed to a boolean datatype with consistent entries for computation"
   ]
  },
  {
   "cell_type": "markdown",
   "metadata": {},
   "source": [
    "<hr>"
   ]
  },
  {
   "cell_type": "markdown",
   "metadata": {},
   "source": [
    "### **8. Rating Range:** & **15. Consistent Rating Scale:**"
   ]
  },
  {
   "cell_type": "code",
   "execution_count": 258,
   "metadata": {},
   "outputs": [
    {
     "data": {
      "text/plain": [
       "0     5.40\n",
       "1     3.50\n",
       "2    -1.00\n",
       "3     4.40\n",
       "4     6.40\n",
       "5     1.40\n",
       "6     0.00\n",
       "7    -1.00\n",
       "8     5.40\n",
       "9     7.70\n",
       "10    5.40\n",
       "11    6.70\n",
       "12    0.00\n",
       "13   -1.00\n",
       "14    4.00\n",
       "15    3.00\n",
       "16    4.50\n",
       "17    5.30\n",
       "18    6.70\n",
       "19    3.30\n",
       "20    5.70\n",
       "21    5.00\n",
       "22    7.80\n",
       "23    2.40\n",
       "24   -1.00\n",
       "25    0.00\n",
       "26    3.53\n",
       "27    5.40\n",
       "28    3.40\n",
       "Name: Rating, dtype: float64"
      ]
     },
     "execution_count": 258,
     "metadata": {},
     "output_type": "execute_result"
    }
   ],
   "source": [
    "dataset['Rating']"
   ]
  },
  {
   "cell_type": "markdown",
   "metadata": {},
   "source": [
    "- Looking at the rows in the Rating Column there seem to be some in consistency as well as erroneous data in it,\n",
    "  - there are -1.00 values in rating\n",
    "  - there is no specific range mentioned or inferred from the data\n",
    "- To clean this Column we have to transform the data into a scale of 0 - 5 and then normalize the data, which would be ideal for further computation"
   ]
  },
  {
   "cell_type": "markdown",
   "metadata": {},
   "source": [
    "- First we find the minimum and maximum rating in the data"
   ]
  },
  {
   "cell_type": "code",
   "execution_count": 259,
   "metadata": {},
   "outputs": [],
   "source": [
    "min_rating = dataset['Rating'].min()\n",
    "max_rating = dataset['Rating'].max()"
   ]
  },
  {
   "cell_type": "markdown",
   "metadata": {},
   "source": [
    "- Then the normalize the rest of the data using the min and max rating"
   ]
  },
  {
   "cell_type": "code",
   "execution_count": 260,
   "metadata": {},
   "outputs": [],
   "source": [
    "dataset['Rating'] = round(((dataset['Rating'] - min_rating) / (max_rating - min_rating)) * 5, 2)"
   ]
  },
  {
   "cell_type": "code",
   "execution_count": 261,
   "metadata": {},
   "outputs": [
    {
     "data": {
      "text/html": [
       "<div>\n",
       "<style scoped>\n",
       "    .dataframe tbody tr th:only-of-type {\n",
       "        vertical-align: middle;\n",
       "    }\n",
       "\n",
       "    .dataframe tbody tr th {\n",
       "        vertical-align: top;\n",
       "    }\n",
       "\n",
       "    .dataframe thead th {\n",
       "        text-align: right;\n",
       "    }\n",
       "</style>\n",
       "<table border=\"1\" class=\"dataframe\">\n",
       "  <thead>\n",
       "    <tr style=\"text-align: right;\">\n",
       "      <th></th>\n",
       "      <th>Index</th>\n",
       "      <th>Age</th>\n",
       "      <th>Median Salary</th>\n",
       "      <th>Rating</th>\n",
       "      <th>Location</th>\n",
       "      <th>Established</th>\n",
       "      <th>Easy Apply</th>\n",
       "    </tr>\n",
       "  </thead>\n",
       "  <tbody>\n",
       "    <tr>\n",
       "      <th>0</th>\n",
       "      <td>0</td>\n",
       "      <td>44.00</td>\n",
       "      <td>22000.0</td>\n",
       "      <td>3.64</td>\n",
       "      <td>India, In</td>\n",
       "      <td>1999</td>\n",
       "      <td>True</td>\n",
       "    </tr>\n",
       "    <tr>\n",
       "      <th>1</th>\n",
       "      <td>1</td>\n",
       "      <td>66.00</td>\n",
       "      <td>27500.0</td>\n",
       "      <td>2.56</td>\n",
       "      <td>New York, Ny</td>\n",
       "      <td>2002</td>\n",
       "      <td>True</td>\n",
       "    </tr>\n",
       "    <tr>\n",
       "      <th>2</th>\n",
       "      <td>2</td>\n",
       "      <td>39.05</td>\n",
       "      <td>38500.0</td>\n",
       "      <td>0.00</td>\n",
       "      <td>New York, Ny</td>\n",
       "      <td>1999</td>\n",
       "      <td>False</td>\n",
       "    </tr>\n",
       "    <tr>\n",
       "      <th>3</th>\n",
       "      <td>3</td>\n",
       "      <td>64.00</td>\n",
       "      <td>22000.0</td>\n",
       "      <td>3.07</td>\n",
       "      <td>India, In</td>\n",
       "      <td>1988</td>\n",
       "      <td>False</td>\n",
       "    </tr>\n",
       "    <tr>\n",
       "      <th>4</th>\n",
       "      <td>4</td>\n",
       "      <td>25.00</td>\n",
       "      <td>22000.0</td>\n",
       "      <td>4.20</td>\n",
       "      <td>Australia, Aus</td>\n",
       "      <td>2002</td>\n",
       "      <td>False</td>\n",
       "    </tr>\n",
       "    <tr>\n",
       "      <th>5</th>\n",
       "      <td>5</td>\n",
       "      <td>44.00</td>\n",
       "      <td>38500.0</td>\n",
       "      <td>1.36</td>\n",
       "      <td>India, In</td>\n",
       "      <td>1999</td>\n",
       "      <td>True</td>\n",
       "    </tr>\n",
       "    <tr>\n",
       "      <th>6</th>\n",
       "      <td>6</td>\n",
       "      <td>21.00</td>\n",
       "      <td>22000.0</td>\n",
       "      <td>0.57</td>\n",
       "      <td>New York, Ny</td>\n",
       "      <td>1999</td>\n",
       "      <td>False</td>\n",
       "    </tr>\n",
       "    <tr>\n",
       "      <th>7</th>\n",
       "      <td>7</td>\n",
       "      <td>44.00</td>\n",
       "      <td>22000.0</td>\n",
       "      <td>0.00</td>\n",
       "      <td>Australia, Aus</td>\n",
       "      <td>1999</td>\n",
       "      <td>False</td>\n",
       "    </tr>\n",
       "    <tr>\n",
       "      <th>8</th>\n",
       "      <td>8</td>\n",
       "      <td>35.00</td>\n",
       "      <td>22000.0</td>\n",
       "      <td>3.64</td>\n",
       "      <td>New York, Ny</td>\n",
       "      <td>1999</td>\n",
       "      <td>False</td>\n",
       "    </tr>\n",
       "    <tr>\n",
       "      <th>9</th>\n",
       "      <td>9</td>\n",
       "      <td>22.00</td>\n",
       "      <td>22000.0</td>\n",
       "      <td>4.94</td>\n",
       "      <td>India, In</td>\n",
       "      <td>1999</td>\n",
       "      <td>True</td>\n",
       "    </tr>\n",
       "    <tr>\n",
       "      <th>10</th>\n",
       "      <td>10</td>\n",
       "      <td>55.00</td>\n",
       "      <td>5000.0</td>\n",
       "      <td>3.64</td>\n",
       "      <td>India, In</td>\n",
       "      <td>2008</td>\n",
       "      <td>True</td>\n",
       "    </tr>\n",
       "    <tr>\n",
       "      <th>11</th>\n",
       "      <td>11</td>\n",
       "      <td>44.00</td>\n",
       "      <td>5000.0</td>\n",
       "      <td>4.38</td>\n",
       "      <td>India, In</td>\n",
       "      <td>2009</td>\n",
       "      <td>False</td>\n",
       "    </tr>\n",
       "    <tr>\n",
       "      <th>12</th>\n",
       "      <td>12</td>\n",
       "      <td>39.05</td>\n",
       "      <td>22000.0</td>\n",
       "      <td>0.57</td>\n",
       "      <td>India, In</td>\n",
       "      <td>1999</td>\n",
       "      <td>False</td>\n",
       "    </tr>\n",
       "    <tr>\n",
       "      <th>13</th>\n",
       "      <td>13</td>\n",
       "      <td>25.00</td>\n",
       "      <td>22000.0</td>\n",
       "      <td>0.00</td>\n",
       "      <td>Australia, Aus</td>\n",
       "      <td>2019</td>\n",
       "      <td>True</td>\n",
       "    </tr>\n",
       "    <tr>\n",
       "      <th>14</th>\n",
       "      <td>14</td>\n",
       "      <td>66.00</td>\n",
       "      <td>22000.0</td>\n",
       "      <td>2.84</td>\n",
       "      <td>Australia, Aus</td>\n",
       "      <td>2020</td>\n",
       "      <td>True</td>\n",
       "    </tr>\n",
       "    <tr>\n",
       "      <th>15</th>\n",
       "      <td>15</td>\n",
       "      <td>44.00</td>\n",
       "      <td>44000.0</td>\n",
       "      <td>2.27</td>\n",
       "      <td>Australia, Aus</td>\n",
       "      <td>1999</td>\n",
       "      <td>False</td>\n",
       "    </tr>\n",
       "    <tr>\n",
       "      <th>16</th>\n",
       "      <td>16</td>\n",
       "      <td>19.00</td>\n",
       "      <td>9500.0</td>\n",
       "      <td>3.12</td>\n",
       "      <td>India, In</td>\n",
       "      <td>1984</td>\n",
       "      <td>False</td>\n",
       "    </tr>\n",
       "    <tr>\n",
       "      <th>17</th>\n",
       "      <td>17</td>\n",
       "      <td>39.05</td>\n",
       "      <td>22000.0</td>\n",
       "      <td>3.58</td>\n",
       "      <td>New York, Ny</td>\n",
       "      <td>1943</td>\n",
       "      <td>True</td>\n",
       "    </tr>\n",
       "    <tr>\n",
       "      <th>18</th>\n",
       "      <td>18</td>\n",
       "      <td>35.00</td>\n",
       "      <td>22000.0</td>\n",
       "      <td>4.38</td>\n",
       "      <td>New York, Ny</td>\n",
       "      <td>1954</td>\n",
       "      <td>True</td>\n",
       "    </tr>\n",
       "    <tr>\n",
       "      <th>19</th>\n",
       "      <td>19</td>\n",
       "      <td>32.00</td>\n",
       "      <td>22000.0</td>\n",
       "      <td>2.44</td>\n",
       "      <td>New York, Ny</td>\n",
       "      <td>1955</td>\n",
       "      <td>True</td>\n",
       "    </tr>\n",
       "    <tr>\n",
       "      <th>20</th>\n",
       "      <td>20</td>\n",
       "      <td>39.05</td>\n",
       "      <td>22000.0</td>\n",
       "      <td>3.81</td>\n",
       "      <td>New York, Ny</td>\n",
       "      <td>1944</td>\n",
       "      <td>True</td>\n",
       "    </tr>\n",
       "    <tr>\n",
       "      <th>21</th>\n",
       "      <td>21</td>\n",
       "      <td>35.00</td>\n",
       "      <td>22000.0</td>\n",
       "      <td>3.41</td>\n",
       "      <td>New York, Ny</td>\n",
       "      <td>1946</td>\n",
       "      <td>False</td>\n",
       "    </tr>\n",
       "    <tr>\n",
       "      <th>22</th>\n",
       "      <td>22</td>\n",
       "      <td>19.00</td>\n",
       "      <td>27500.0</td>\n",
       "      <td>5.00</td>\n",
       "      <td>New York, Ny</td>\n",
       "      <td>1988</td>\n",
       "      <td>True</td>\n",
       "    </tr>\n",
       "    <tr>\n",
       "      <th>23</th>\n",
       "      <td>23</td>\n",
       "      <td>39.05</td>\n",
       "      <td>22000.0</td>\n",
       "      <td>1.93</td>\n",
       "      <td>New York, Ny</td>\n",
       "      <td>1999</td>\n",
       "      <td>True</td>\n",
       "    </tr>\n",
       "    <tr>\n",
       "      <th>24</th>\n",
       "      <td>24</td>\n",
       "      <td>13.00</td>\n",
       "      <td>22000.0</td>\n",
       "      <td>0.00</td>\n",
       "      <td>New York, Ny</td>\n",
       "      <td>1987</td>\n",
       "      <td>False</td>\n",
       "    </tr>\n",
       "    <tr>\n",
       "      <th>25</th>\n",
       "      <td>25</td>\n",
       "      <td>55.00</td>\n",
       "      <td>22000.0</td>\n",
       "      <td>0.57</td>\n",
       "      <td>Australia, Aus</td>\n",
       "      <td>1980</td>\n",
       "      <td>True</td>\n",
       "    </tr>\n",
       "    <tr>\n",
       "      <th>26</th>\n",
       "      <td>26</td>\n",
       "      <td>39.05</td>\n",
       "      <td>27500.0</td>\n",
       "      <td>2.57</td>\n",
       "      <td>India, In</td>\n",
       "      <td>1934</td>\n",
       "      <td>True</td>\n",
       "    </tr>\n",
       "    <tr>\n",
       "      <th>27</th>\n",
       "      <td>27</td>\n",
       "      <td>52.00</td>\n",
       "      <td>22000.0</td>\n",
       "      <td>3.64</td>\n",
       "      <td>India, In</td>\n",
       "      <td>1935</td>\n",
       "      <td>False</td>\n",
       "    </tr>\n",
       "    <tr>\n",
       "      <th>28</th>\n",
       "      <td>28</td>\n",
       "      <td>39.05</td>\n",
       "      <td>19500.0</td>\n",
       "      <td>2.50</td>\n",
       "      <td>Australia, Aus</td>\n",
       "      <td>1932</td>\n",
       "      <td>False</td>\n",
       "    </tr>\n",
       "  </tbody>\n",
       "</table>\n",
       "</div>"
      ],
      "text/plain": [
       "    Index    Age  Median Salary  Rating        Location  Established  \\\n",
       "0       0  44.00        22000.0    3.64       India, In         1999   \n",
       "1       1  66.00        27500.0    2.56    New York, Ny         2002   \n",
       "2       2  39.05        38500.0    0.00    New York, Ny         1999   \n",
       "3       3  64.00        22000.0    3.07       India, In         1988   \n",
       "4       4  25.00        22000.0    4.20  Australia, Aus         2002   \n",
       "5       5  44.00        38500.0    1.36       India, In         1999   \n",
       "6       6  21.00        22000.0    0.57    New York, Ny         1999   \n",
       "7       7  44.00        22000.0    0.00  Australia, Aus         1999   \n",
       "8       8  35.00        22000.0    3.64    New York, Ny         1999   \n",
       "9       9  22.00        22000.0    4.94       India, In         1999   \n",
       "10     10  55.00         5000.0    3.64       India, In         2008   \n",
       "11     11  44.00         5000.0    4.38       India, In         2009   \n",
       "12     12  39.05        22000.0    0.57       India, In         1999   \n",
       "13     13  25.00        22000.0    0.00  Australia, Aus         2019   \n",
       "14     14  66.00        22000.0    2.84  Australia, Aus         2020   \n",
       "15     15  44.00        44000.0    2.27  Australia, Aus         1999   \n",
       "16     16  19.00         9500.0    3.12       India, In         1984   \n",
       "17     17  39.05        22000.0    3.58    New York, Ny         1943   \n",
       "18     18  35.00        22000.0    4.38    New York, Ny         1954   \n",
       "19     19  32.00        22000.0    2.44    New York, Ny         1955   \n",
       "20     20  39.05        22000.0    3.81    New York, Ny         1944   \n",
       "21     21  35.00        22000.0    3.41    New York, Ny         1946   \n",
       "22     22  19.00        27500.0    5.00    New York, Ny         1988   \n",
       "23     23  39.05        22000.0    1.93    New York, Ny         1999   \n",
       "24     24  13.00        22000.0    0.00    New York, Ny         1987   \n",
       "25     25  55.00        22000.0    0.57  Australia, Aus         1980   \n",
       "26     26  39.05        27500.0    2.57       India, In         1934   \n",
       "27     27  52.00        22000.0    3.64       India, In         1935   \n",
       "28     28  39.05        19500.0    2.50  Australia, Aus         1932   \n",
       "\n",
       "    Easy Apply  \n",
       "0         True  \n",
       "1         True  \n",
       "2        False  \n",
       "3        False  \n",
       "4        False  \n",
       "5         True  \n",
       "6        False  \n",
       "7        False  \n",
       "8        False  \n",
       "9         True  \n",
       "10        True  \n",
       "11       False  \n",
       "12       False  \n",
       "13        True  \n",
       "14        True  \n",
       "15       False  \n",
       "16       False  \n",
       "17        True  \n",
       "18        True  \n",
       "19        True  \n",
       "20        True  \n",
       "21       False  \n",
       "22        True  \n",
       "23        True  \n",
       "24       False  \n",
       "25        True  \n",
       "26        True  \n",
       "27       False  \n",
       "28       False  "
      ]
     },
     "execution_count": 261,
     "metadata": {},
     "output_type": "execute_result"
    }
   ],
   "source": [
    "dataset"
   ]
  },
  {
   "cell_type": "markdown",
   "metadata": {},
   "source": [
    "- Now we have transformed the data into a 0 - 5 Rating Scale for easier computation"
   ]
  },
  {
   "cell_type": "markdown",
   "metadata": {},
   "source": [
    "<hr>"
   ]
  },
  {
   "cell_type": "markdown",
   "metadata": {},
   "source": [
    "### **9. Age Distribution:**"
   ]
  },
  {
   "cell_type": "code",
   "execution_count": 262,
   "metadata": {},
   "outputs": [
    {
     "data": {
      "image/png": "[encoded data removed]",
      "text/plain": [
       "<Figure size 432x288 with 1 Axes>"
      ]
     },
     "metadata": {
      "needs_background": "light"
     },
     "output_type": "display_data"
    }
   ],
   "source": [
    "plt.hist(dataset['Age'].dropna(), edgecolor='black')\n",
    "plt.title('Age Distribution')\n",
    "plt.xlabel('Age')\n",
    "plt.ylabel('Frequency')\n",
    "plt.show()"
   ]
  },
  {
   "cell_type": "code",
   "execution_count": 263,
   "metadata": {},
   "outputs": [
    {
     "data": {
      "text/plain": [
       "count    29.000000\n",
       "mean     39.046552\n",
       "std      13.973131\n",
       "min      13.000000\n",
       "25%      32.000000\n",
       "50%      39.050000\n",
       "75%      44.000000\n",
       "max      66.000000\n",
       "Name: Age, dtype: float64"
      ]
     },
     "execution_count": 263,
     "metadata": {},
     "output_type": "execute_result"
    }
   ],
   "source": [
    "dataset['Age'].describe()"
   ]
  },
  {
   "cell_type": "markdown",
   "metadata": {},
   "source": [
    "- As we can see from the Histogram and describe function, there are some outliers that may impact analysis of our data,\n",
    "  - The min value of the Age column is 13\n",
    "  - the max value is 66\n",
    "- These values may impact our analysis"
   ]
  },
  {
   "cell_type": "markdown",
   "metadata": {},
   "source": [
    "<hr>"
   ]
  },
  {
   "cell_type": "markdown",
   "metadata": {},
   "source": [
    "### **11. Data Integrity:**"
   ]
  },
  {
   "cell_type": "code",
   "execution_count": 264,
   "metadata": {},
   "outputs": [],
   "source": [
    "def validate_data_integrity(dataset, current_year=2024):\n",
    "    inconsistencies = []\n",
    "\n",
    "    for index, row in dataset.iterrows():\n",
    "        if row['Age'] > 0 and row['Established'] > 0:\n",
    "            computed_age = current_year - row['Established']\n",
    "            if computed_age != row['Age']:\n",
    "                inconsistencies.append({\n",
    "                    'Index': index,\n",
    "                    'Age': row['Age'],\n",
    "                    'Established': row['Established'],\n",
    "                    'Computed Age': computed_age\n",
    "                })\n",
    "\n",
    "    return inconsistencies"
   ]
  },
  {
   "cell_type": "code",
   "execution_count": 265,
   "metadata": {},
   "outputs": [],
   "source": [
    "inconsistencies = validate_data_integrity(dataset)"
   ]
  },
  {
   "cell_type": "code",
   "execution_count": 266,
   "metadata": {},
   "outputs": [
    {
     "name": "stdout",
     "output_type": "stream",
     "text": [
      "Index 0: Age (44.0) != (1999) -> Computed Age: 25\n",
      "Index 1: Age (66.0) != (2002) -> Computed Age: 22\n",
      "Index 2: Age (39.05) != (1999) -> Computed Age: 25\n",
      "Index 3: Age (64.0) != (1988) -> Computed Age: 36\n",
      "Index 4: Age (25.0) != (2002) -> Computed Age: 22\n",
      "Index 5: Age (44.0) != (1999) -> Computed Age: 25\n",
      "Index 6: Age (21.0) != (1999) -> Computed Age: 25\n",
      "Index 7: Age (44.0) != (1999) -> Computed Age: 25\n",
      "Index 8: Age (35.0) != (1999) -> Computed Age: 25\n",
      "Index 9: Age (22.0) != (1999) -> Computed Age: 25\n",
      "Index 10: Age (55.0) != (2008) -> Computed Age: 16\n",
      "Index 11: Age (44.0) != (2009) -> Computed Age: 15\n",
      "Index 12: Age (39.05) != (1999) -> Computed Age: 25\n",
      "Index 13: Age (25.0) != (2019) -> Computed Age: 5\n",
      "Index 14: Age (66.0) != (2020) -> Computed Age: 4\n",
      "Index 15: Age (44.0) != (1999) -> Computed Age: 25\n",
      "Index 16: Age (19.0) != (1984) -> Computed Age: 40\n",
      "Index 17: Age (39.05) != (1943) -> Computed Age: 81\n",
      "Index 18: Age (35.0) != (1954) -> Computed Age: 70\n",
      "Index 19: Age (32.0) != (1955) -> Computed Age: 69\n",
      "Index 20: Age (39.05) != (1944) -> Computed Age: 80\n",
      "Index 21: Age (35.0) != (1946) -> Computed Age: 78\n",
      "Index 22: Age (19.0) != (1988) -> Computed Age: 36\n",
      "Index 23: Age (39.05) != (1999) -> Computed Age: 25\n",
      "Index 24: Age (13.0) != (1987) -> Computed Age: 37\n",
      "Index 25: Age (55.0) != (1980) -> Computed Age: 44\n",
      "Index 26: Age (39.05) != (1934) -> Computed Age: 90\n",
      "Index 27: Age (52.0) != (1935) -> Computed Age: 89\n",
      "Index 28: Age (39.05) != (1932) -> Computed Age: 92\n"
     ]
    }
   ],
   "source": [
    "for issue in inconsistencies:\n",
    "    print(f\"Index {issue['Index']}: Age ({issue['Age']}) != ({issue['Established']}) -> Computed Age: {issue['Computed Age']}\")"
   ]
  },
  {
   "cell_type": "markdown",
   "metadata": {},
   "source": [
    "- As we can see there are inconsistencies throughout the dataset, when cross referencing Age and Established Column."
   ]
  },
  {
   "cell_type": "markdown",
   "metadata": {},
   "source": [
    "<hr>"
   ]
  },
  {
   "cell_type": "markdown",
   "metadata": {},
   "source": [
    "### **13. Location Accuracy:**"
   ]
  },
  {
   "cell_type": "code",
   "execution_count": 267,
   "metadata": {},
   "outputs": [
    {
     "data": {
      "text/html": [
       "<div>\n",
       "<style scoped>\n",
       "    .dataframe tbody tr th:only-of-type {\n",
       "        vertical-align: middle;\n",
       "    }\n",
       "\n",
       "    .dataframe tbody tr th {\n",
       "        vertical-align: top;\n",
       "    }\n",
       "\n",
       "    .dataframe thead th {\n",
       "        text-align: right;\n",
       "    }\n",
       "</style>\n",
       "<table border=\"1\" class=\"dataframe\">\n",
       "  <thead>\n",
       "    <tr style=\"text-align: right;\">\n",
       "      <th></th>\n",
       "      <th>Index</th>\n",
       "      <th>Age</th>\n",
       "      <th>Median Salary</th>\n",
       "      <th>Rating</th>\n",
       "      <th>Location</th>\n",
       "      <th>Established</th>\n",
       "      <th>Easy Apply</th>\n",
       "    </tr>\n",
       "  </thead>\n",
       "  <tbody>\n",
       "    <tr>\n",
       "      <th>0</th>\n",
       "      <td>0</td>\n",
       "      <td>44.00</td>\n",
       "      <td>22000.0</td>\n",
       "      <td>3.64</td>\n",
       "      <td>India, In</td>\n",
       "      <td>1999</td>\n",
       "      <td>True</td>\n",
       "    </tr>\n",
       "    <tr>\n",
       "      <th>1</th>\n",
       "      <td>1</td>\n",
       "      <td>66.00</td>\n",
       "      <td>27500.0</td>\n",
       "      <td>2.56</td>\n",
       "      <td>New York, Ny</td>\n",
       "      <td>2002</td>\n",
       "      <td>True</td>\n",
       "    </tr>\n",
       "    <tr>\n",
       "      <th>2</th>\n",
       "      <td>2</td>\n",
       "      <td>39.05</td>\n",
       "      <td>38500.0</td>\n",
       "      <td>0.00</td>\n",
       "      <td>New York, Ny</td>\n",
       "      <td>1999</td>\n",
       "      <td>False</td>\n",
       "    </tr>\n",
       "    <tr>\n",
       "      <th>3</th>\n",
       "      <td>3</td>\n",
       "      <td>64.00</td>\n",
       "      <td>22000.0</td>\n",
       "      <td>3.07</td>\n",
       "      <td>India, In</td>\n",
       "      <td>1988</td>\n",
       "      <td>False</td>\n",
       "    </tr>\n",
       "    <tr>\n",
       "      <th>4</th>\n",
       "      <td>4</td>\n",
       "      <td>25.00</td>\n",
       "      <td>22000.0</td>\n",
       "      <td>4.20</td>\n",
       "      <td>Australia, Aus</td>\n",
       "      <td>2002</td>\n",
       "      <td>False</td>\n",
       "    </tr>\n",
       "  </tbody>\n",
       "</table>\n",
       "</div>"
      ],
      "text/plain": [
       "   Index    Age  Median Salary  Rating        Location  Established  \\\n",
       "0      0  44.00        22000.0    3.64       India, In         1999   \n",
       "1      1  66.00        27500.0    2.56    New York, Ny         2002   \n",
       "2      2  39.05        38500.0    0.00    New York, Ny         1999   \n",
       "3      3  64.00        22000.0    3.07       India, In         1988   \n",
       "4      4  25.00        22000.0    4.20  Australia, Aus         2002   \n",
       "\n",
       "   Easy Apply  \n",
       "0        True  \n",
       "1        True  \n",
       "2       False  \n",
       "3       False  \n",
       "4       False  "
      ]
     },
     "execution_count": 267,
     "metadata": {},
     "output_type": "execute_result"
    }
   ],
   "source": [
    "dataset.head()"
   ]
  },
  {
   "cell_type": "code",
   "execution_count": 268,
   "metadata": {},
   "outputs": [
    {
     "data": {
      "text/plain": [
       "New York, Ny      12\n",
       "India, In         10\n",
       "Australia, Aus     7\n",
       "Name: Location, dtype: int64"
      ]
     },
     "execution_count": 268,
     "metadata": {},
     "output_type": "execute_result"
    }
   ],
   "source": [
    "dataset['Location'].value_counts()"
   ]
  },
  {
   "cell_type": "markdown",
   "metadata": {},
   "source": [
    "- As we can see only New York Entries are specific enough, where as India and Australia as ambiguous locations.\n",
    "  - also New York entries specifiy country as NY where it should be USA."
   ]
  },
  {
   "cell_type": "markdown",
   "metadata": {},
   "source": [
    "<hr>"
   ]
  },
  {
   "cell_type": "markdown",
   "metadata": {},
   "source": [
    "### **14. Handling Categorical Data:**"
   ]
  },
  {
   "cell_type": "code",
   "execution_count": 269,
   "metadata": {},
   "outputs": [
    {
     "data": {
      "text/html": [
       "<div>\n",
       "<style scoped>\n",
       "    .dataframe tbody tr th:only-of-type {\n",
       "        vertical-align: middle;\n",
       "    }\n",
       "\n",
       "    .dataframe tbody tr th {\n",
       "        vertical-align: top;\n",
       "    }\n",
       "\n",
       "    .dataframe thead th {\n",
       "        text-align: right;\n",
       "    }\n",
       "</style>\n",
       "<table border=\"1\" class=\"dataframe\">\n",
       "  <thead>\n",
       "    <tr style=\"text-align: right;\">\n",
       "      <th></th>\n",
       "      <th>Index</th>\n",
       "      <th>Age</th>\n",
       "      <th>Median Salary</th>\n",
       "      <th>Rating</th>\n",
       "      <th>Location</th>\n",
       "      <th>Established</th>\n",
       "      <th>Easy Apply</th>\n",
       "      <th>Location_encoded</th>\n",
       "    </tr>\n",
       "  </thead>\n",
       "  <tbody>\n",
       "    <tr>\n",
       "      <th>0</th>\n",
       "      <td>0</td>\n",
       "      <td>44.00</td>\n",
       "      <td>22000.0</td>\n",
       "      <td>3.64</td>\n",
       "      <td>India, In</td>\n",
       "      <td>1999</td>\n",
       "      <td>True</td>\n",
       "      <td>1</td>\n",
       "    </tr>\n",
       "    <tr>\n",
       "      <th>1</th>\n",
       "      <td>1</td>\n",
       "      <td>66.00</td>\n",
       "      <td>27500.0</td>\n",
       "      <td>2.56</td>\n",
       "      <td>New York, Ny</td>\n",
       "      <td>2002</td>\n",
       "      <td>True</td>\n",
       "      <td>2</td>\n",
       "    </tr>\n",
       "    <tr>\n",
       "      <th>2</th>\n",
       "      <td>2</td>\n",
       "      <td>39.05</td>\n",
       "      <td>38500.0</td>\n",
       "      <td>0.00</td>\n",
       "      <td>New York, Ny</td>\n",
       "      <td>1999</td>\n",
       "      <td>False</td>\n",
       "      <td>2</td>\n",
       "    </tr>\n",
       "    <tr>\n",
       "      <th>3</th>\n",
       "      <td>3</td>\n",
       "      <td>64.00</td>\n",
       "      <td>22000.0</td>\n",
       "      <td>3.07</td>\n",
       "      <td>India, In</td>\n",
       "      <td>1988</td>\n",
       "      <td>False</td>\n",
       "      <td>1</td>\n",
       "    </tr>\n",
       "    <tr>\n",
       "      <th>4</th>\n",
       "      <td>4</td>\n",
       "      <td>25.00</td>\n",
       "      <td>22000.0</td>\n",
       "      <td>4.20</td>\n",
       "      <td>Australia, Aus</td>\n",
       "      <td>2002</td>\n",
       "      <td>False</td>\n",
       "      <td>0</td>\n",
       "    </tr>\n",
       "  </tbody>\n",
       "</table>\n",
       "</div>"
      ],
      "text/plain": [
       "   Index    Age  Median Salary  Rating        Location  Established  \\\n",
       "0      0  44.00        22000.0    3.64       India, In         1999   \n",
       "1      1  66.00        27500.0    2.56    New York, Ny         2002   \n",
       "2      2  39.05        38500.0    0.00    New York, Ny         1999   \n",
       "3      3  64.00        22000.0    3.07       India, In         1988   \n",
       "4      4  25.00        22000.0    4.20  Australia, Aus         2002   \n",
       "\n",
       "   Easy Apply  Location_encoded  \n",
       "0        True                 1  \n",
       "1        True                 2  \n",
       "2       False                 2  \n",
       "3       False                 1  \n",
       "4       False                 0  "
      ]
     },
     "execution_count": 269,
     "metadata": {},
     "output_type": "execute_result"
    }
   ],
   "source": [
    "label_encoder = LabelEncoder()\n",
    "\n",
    "dataset['Location_encoded'] = label_encoder.fit_transform(dataset['Location'])\n",
    "\n",
    "dataset.head()"
   ]
  },
  {
   "cell_type": "markdown",
   "metadata": {},
   "source": [
    "- Here we have used scikit-learn's preprocessing function **LabelEncoder()** to encode the location column into an encoded column."
   ]
  },
  {
   "cell_type": "markdown",
   "metadata": {},
   "source": [
    "<hr>"
   ]
  },
  {
   "cell_type": "markdown",
   "metadata": {},
   "source": [
    "### Final Dataset after Cleanup"
   ]
  },
  {
   "cell_type": "code",
   "execution_count": 270,
   "metadata": {},
   "outputs": [
    {
     "data": {
      "text/html": [
       "<div>\n",
       "<style scoped>\n",
       "    .dataframe tbody tr th:only-of-type {\n",
       "        vertical-align: middle;\n",
       "    }\n",
       "\n",
       "    .dataframe tbody tr th {\n",
       "        vertical-align: top;\n",
       "    }\n",
       "\n",
       "    .dataframe thead th {\n",
       "        text-align: right;\n",
       "    }\n",
       "</style>\n",
       "<table border=\"1\" class=\"dataframe\">\n",
       "  <thead>\n",
       "    <tr style=\"text-align: right;\">\n",
       "      <th></th>\n",
       "      <th>Index</th>\n",
       "      <th>Age</th>\n",
       "      <th>Median Salary</th>\n",
       "      <th>Rating</th>\n",
       "      <th>Location</th>\n",
       "      <th>Established</th>\n",
       "      <th>Easy Apply</th>\n",
       "      <th>Location_encoded</th>\n",
       "    </tr>\n",
       "  </thead>\n",
       "  <tbody>\n",
       "    <tr>\n",
       "      <th>0</th>\n",
       "      <td>0</td>\n",
       "      <td>44.00</td>\n",
       "      <td>22000.0</td>\n",
       "      <td>3.64</td>\n",
       "      <td>India, In</td>\n",
       "      <td>1999</td>\n",
       "      <td>True</td>\n",
       "      <td>1</td>\n",
       "    </tr>\n",
       "    <tr>\n",
       "      <th>1</th>\n",
       "      <td>1</td>\n",
       "      <td>66.00</td>\n",
       "      <td>27500.0</td>\n",
       "      <td>2.56</td>\n",
       "      <td>New York, Ny</td>\n",
       "      <td>2002</td>\n",
       "      <td>True</td>\n",
       "      <td>2</td>\n",
       "    </tr>\n",
       "    <tr>\n",
       "      <th>2</th>\n",
       "      <td>2</td>\n",
       "      <td>39.05</td>\n",
       "      <td>38500.0</td>\n",
       "      <td>0.00</td>\n",
       "      <td>New York, Ny</td>\n",
       "      <td>1999</td>\n",
       "      <td>False</td>\n",
       "      <td>2</td>\n",
       "    </tr>\n",
       "    <tr>\n",
       "      <th>3</th>\n",
       "      <td>3</td>\n",
       "      <td>64.00</td>\n",
       "      <td>22000.0</td>\n",
       "      <td>3.07</td>\n",
       "      <td>India, In</td>\n",
       "      <td>1988</td>\n",
       "      <td>False</td>\n",
       "      <td>1</td>\n",
       "    </tr>\n",
       "    <tr>\n",
       "      <th>4</th>\n",
       "      <td>4</td>\n",
       "      <td>25.00</td>\n",
       "      <td>22000.0</td>\n",
       "      <td>4.20</td>\n",
       "      <td>Australia, Aus</td>\n",
       "      <td>2002</td>\n",
       "      <td>False</td>\n",
       "      <td>0</td>\n",
       "    </tr>\n",
       "    <tr>\n",
       "      <th>5</th>\n",
       "      <td>5</td>\n",
       "      <td>44.00</td>\n",
       "      <td>38500.0</td>\n",
       "      <td>1.36</td>\n",
       "      <td>India, In</td>\n",
       "      <td>1999</td>\n",
       "      <td>True</td>\n",
       "      <td>1</td>\n",
       "    </tr>\n",
       "    <tr>\n",
       "      <th>6</th>\n",
       "      <td>6</td>\n",
       "      <td>21.00</td>\n",
       "      <td>22000.0</td>\n",
       "      <td>0.57</td>\n",
       "      <td>New York, Ny</td>\n",
       "      <td>1999</td>\n",
       "      <td>False</td>\n",
       "      <td>2</td>\n",
       "    </tr>\n",
       "    <tr>\n",
       "      <th>7</th>\n",
       "      <td>7</td>\n",
       "      <td>44.00</td>\n",
       "      <td>22000.0</td>\n",
       "      <td>0.00</td>\n",
       "      <td>Australia, Aus</td>\n",
       "      <td>1999</td>\n",
       "      <td>False</td>\n",
       "      <td>0</td>\n",
       "    </tr>\n",
       "    <tr>\n",
       "      <th>8</th>\n",
       "      <td>8</td>\n",
       "      <td>35.00</td>\n",
       "      <td>22000.0</td>\n",
       "      <td>3.64</td>\n",
       "      <td>New York, Ny</td>\n",
       "      <td>1999</td>\n",
       "      <td>False</td>\n",
       "      <td>2</td>\n",
       "    </tr>\n",
       "    <tr>\n",
       "      <th>9</th>\n",
       "      <td>9</td>\n",
       "      <td>22.00</td>\n",
       "      <td>22000.0</td>\n",
       "      <td>4.94</td>\n",
       "      <td>India, In</td>\n",
       "      <td>1999</td>\n",
       "      <td>True</td>\n",
       "      <td>1</td>\n",
       "    </tr>\n",
       "    <tr>\n",
       "      <th>10</th>\n",
       "      <td>10</td>\n",
       "      <td>55.00</td>\n",
       "      <td>5000.0</td>\n",
       "      <td>3.64</td>\n",
       "      <td>India, In</td>\n",
       "      <td>2008</td>\n",
       "      <td>True</td>\n",
       "      <td>1</td>\n",
       "    </tr>\n",
       "    <tr>\n",
       "      <th>11</th>\n",
       "      <td>11</td>\n",
       "      <td>44.00</td>\n",
       "      <td>5000.0</td>\n",
       "      <td>4.38</td>\n",
       "      <td>India, In</td>\n",
       "      <td>2009</td>\n",
       "      <td>False</td>\n",
       "      <td>1</td>\n",
       "    </tr>\n",
       "    <tr>\n",
       "      <th>12</th>\n",
       "      <td>12</td>\n",
       "      <td>39.05</td>\n",
       "      <td>22000.0</td>\n",
       "      <td>0.57</td>\n",
       "      <td>India, In</td>\n",
       "      <td>1999</td>\n",
       "      <td>False</td>\n",
       "      <td>1</td>\n",
       "    </tr>\n",
       "    <tr>\n",
       "      <th>13</th>\n",
       "      <td>13</td>\n",
       "      <td>25.00</td>\n",
       "      <td>22000.0</td>\n",
       "      <td>0.00</td>\n",
       "      <td>Australia, Aus</td>\n",
       "      <td>2019</td>\n",
       "      <td>True</td>\n",
       "      <td>0</td>\n",
       "    </tr>\n",
       "    <tr>\n",
       "      <th>14</th>\n",
       "      <td>14</td>\n",
       "      <td>66.00</td>\n",
       "      <td>22000.0</td>\n",
       "      <td>2.84</td>\n",
       "      <td>Australia, Aus</td>\n",
       "      <td>2020</td>\n",
       "      <td>True</td>\n",
       "      <td>0</td>\n",
       "    </tr>\n",
       "    <tr>\n",
       "      <th>15</th>\n",
       "      <td>15</td>\n",
       "      <td>44.00</td>\n",
       "      <td>44000.0</td>\n",
       "      <td>2.27</td>\n",
       "      <td>Australia, Aus</td>\n",
       "      <td>1999</td>\n",
       "      <td>False</td>\n",
       "      <td>0</td>\n",
       "    </tr>\n",
       "    <tr>\n",
       "      <th>16</th>\n",
       "      <td>16</td>\n",
       "      <td>19.00</td>\n",
       "      <td>9500.0</td>\n",
       "      <td>3.12</td>\n",
       "      <td>India, In</td>\n",
       "      <td>1984</td>\n",
       "      <td>False</td>\n",
       "      <td>1</td>\n",
       "    </tr>\n",
       "    <tr>\n",
       "      <th>17</th>\n",
       "      <td>17</td>\n",
       "      <td>39.05</td>\n",
       "      <td>22000.0</td>\n",
       "      <td>3.58</td>\n",
       "      <td>New York, Ny</td>\n",
       "      <td>1943</td>\n",
       "      <td>True</td>\n",
       "      <td>2</td>\n",
       "    </tr>\n",
       "    <tr>\n",
       "      <th>18</th>\n",
       "      <td>18</td>\n",
       "      <td>35.00</td>\n",
       "      <td>22000.0</td>\n",
       "      <td>4.38</td>\n",
       "      <td>New York, Ny</td>\n",
       "      <td>1954</td>\n",
       "      <td>True</td>\n",
       "      <td>2</td>\n",
       "    </tr>\n",
       "    <tr>\n",
       "      <th>19</th>\n",
       "      <td>19</td>\n",
       "      <td>32.00</td>\n",
       "      <td>22000.0</td>\n",
       "      <td>2.44</td>\n",
       "      <td>New York, Ny</td>\n",
       "      <td>1955</td>\n",
       "      <td>True</td>\n",
       "      <td>2</td>\n",
       "    </tr>\n",
       "    <tr>\n",
       "      <th>20</th>\n",
       "      <td>20</td>\n",
       "      <td>39.05</td>\n",
       "      <td>22000.0</td>\n",
       "      <td>3.81</td>\n",
       "      <td>New York, Ny</td>\n",
       "      <td>1944</td>\n",
       "      <td>True</td>\n",
       "      <td>2</td>\n",
       "    </tr>\n",
       "    <tr>\n",
       "      <th>21</th>\n",
       "      <td>21</td>\n",
       "      <td>35.00</td>\n",
       "      <td>22000.0</td>\n",
       "      <td>3.41</td>\n",
       "      <td>New York, Ny</td>\n",
       "      <td>1946</td>\n",
       "      <td>False</td>\n",
       "      <td>2</td>\n",
       "    </tr>\n",
       "    <tr>\n",
       "      <th>22</th>\n",
       "      <td>22</td>\n",
       "      <td>19.00</td>\n",
       "      <td>27500.0</td>\n",
       "      <td>5.00</td>\n",
       "      <td>New York, Ny</td>\n",
       "      <td>1988</td>\n",
       "      <td>True</td>\n",
       "      <td>2</td>\n",
       "    </tr>\n",
       "    <tr>\n",
       "      <th>23</th>\n",
       "      <td>23</td>\n",
       "      <td>39.05</td>\n",
       "      <td>22000.0</td>\n",
       "      <td>1.93</td>\n",
       "      <td>New York, Ny</td>\n",
       "      <td>1999</td>\n",
       "      <td>True</td>\n",
       "      <td>2</td>\n",
       "    </tr>\n",
       "    <tr>\n",
       "      <th>24</th>\n",
       "      <td>24</td>\n",
       "      <td>13.00</td>\n",
       "      <td>22000.0</td>\n",
       "      <td>0.00</td>\n",
       "      <td>New York, Ny</td>\n",
       "      <td>1987</td>\n",
       "      <td>False</td>\n",
       "      <td>2</td>\n",
       "    </tr>\n",
       "    <tr>\n",
       "      <th>25</th>\n",
       "      <td>25</td>\n",
       "      <td>55.00</td>\n",
       "      <td>22000.0</td>\n",
       "      <td>0.57</td>\n",
       "      <td>Australia, Aus</td>\n",
       "      <td>1980</td>\n",
       "      <td>True</td>\n",
       "      <td>0</td>\n",
       "    </tr>\n",
       "    <tr>\n",
       "      <th>26</th>\n",
       "      <td>26</td>\n",
       "      <td>39.05</td>\n",
       "      <td>27500.0</td>\n",
       "      <td>2.57</td>\n",
       "      <td>India, In</td>\n",
       "      <td>1934</td>\n",
       "      <td>True</td>\n",
       "      <td>1</td>\n",
       "    </tr>\n",
       "    <tr>\n",
       "      <th>27</th>\n",
       "      <td>27</td>\n",
       "      <td>52.00</td>\n",
       "      <td>22000.0</td>\n",
       "      <td>3.64</td>\n",
       "      <td>India, In</td>\n",
       "      <td>1935</td>\n",
       "      <td>False</td>\n",
       "      <td>1</td>\n",
       "    </tr>\n",
       "    <tr>\n",
       "      <th>28</th>\n",
       "      <td>28</td>\n",
       "      <td>39.05</td>\n",
       "      <td>19500.0</td>\n",
       "      <td>2.50</td>\n",
       "      <td>Australia, Aus</td>\n",
       "      <td>1932</td>\n",
       "      <td>False</td>\n",
       "      <td>0</td>\n",
       "    </tr>\n",
       "  </tbody>\n",
       "</table>\n",
       "</div>"
      ],
      "text/plain": [
       "    Index    Age  Median Salary  Rating        Location  Established  \\\n",
       "0       0  44.00        22000.0    3.64       India, In         1999   \n",
       "1       1  66.00        27500.0    2.56    New York, Ny         2002   \n",
       "2       2  39.05        38500.0    0.00    New York, Ny         1999   \n",
       "3       3  64.00        22000.0    3.07       India, In         1988   \n",
       "4       4  25.00        22000.0    4.20  Australia, Aus         2002   \n",
       "5       5  44.00        38500.0    1.36       India, In         1999   \n",
       "6       6  21.00        22000.0    0.57    New York, Ny         1999   \n",
       "7       7  44.00        22000.0    0.00  Australia, Aus         1999   \n",
       "8       8  35.00        22000.0    3.64    New York, Ny         1999   \n",
       "9       9  22.00        22000.0    4.94       India, In         1999   \n",
       "10     10  55.00         5000.0    3.64       India, In         2008   \n",
       "11     11  44.00         5000.0    4.38       India, In         2009   \n",
       "12     12  39.05        22000.0    0.57       India, In         1999   \n",
       "13     13  25.00        22000.0    0.00  Australia, Aus         2019   \n",
       "14     14  66.00        22000.0    2.84  Australia, Aus         2020   \n",
       "15     15  44.00        44000.0    2.27  Australia, Aus         1999   \n",
       "16     16  19.00         9500.0    3.12       India, In         1984   \n",
       "17     17  39.05        22000.0    3.58    New York, Ny         1943   \n",
       "18     18  35.00        22000.0    4.38    New York, Ny         1954   \n",
       "19     19  32.00        22000.0    2.44    New York, Ny         1955   \n",
       "20     20  39.05        22000.0    3.81    New York, Ny         1944   \n",
       "21     21  35.00        22000.0    3.41    New York, Ny         1946   \n",
       "22     22  19.00        27500.0    5.00    New York, Ny         1988   \n",
       "23     23  39.05        22000.0    1.93    New York, Ny         1999   \n",
       "24     24  13.00        22000.0    0.00    New York, Ny         1987   \n",
       "25     25  55.00        22000.0    0.57  Australia, Aus         1980   \n",
       "26     26  39.05        27500.0    2.57       India, In         1934   \n",
       "27     27  52.00        22000.0    3.64       India, In         1935   \n",
       "28     28  39.05        19500.0    2.50  Australia, Aus         1932   \n",
       "\n",
       "    Easy Apply  Location_encoded  \n",
       "0         True                 1  \n",
       "1         True                 2  \n",
       "2        False                 2  \n",
       "3        False                 1  \n",
       "4        False                 0  \n",
       "5         True                 1  \n",
       "6        False                 2  \n",
       "7        False                 0  \n",
       "8        False                 2  \n",
       "9         True                 1  \n",
       "10        True                 1  \n",
       "11       False                 1  \n",
       "12       False                 1  \n",
       "13        True                 0  \n",
       "14        True                 0  \n",
       "15       False                 0  \n",
       "16       False                 1  \n",
       "17        True                 2  \n",
       "18        True                 2  \n",
       "19        True                 2  \n",
       "20        True                 2  \n",
       "21       False                 2  \n",
       "22        True                 2  \n",
       "23        True                 2  \n",
       "24       False                 2  \n",
       "25        True                 0  \n",
       "26        True                 1  \n",
       "27       False                 1  \n",
       "28       False                 0  "
      ]
     },
     "execution_count": 270,
     "metadata": {},
     "output_type": "execute_result"
    }
   ],
   "source": [
    "dataset"
   ]
  },
  {
   "cell_type": "markdown",
   "metadata": {},
   "source": [
    "# END"
   ]
  }
 ],
 "metadata": {
  "kernelspec": {
   "display_name": "Python 3 (ipykernel)",
   "language": "python",
   "name": "python3"
  }
 },
 "nbformat": 4,
 "nbformat_minor": 2
}
