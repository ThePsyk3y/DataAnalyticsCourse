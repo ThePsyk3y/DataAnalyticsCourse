{
 "cells": [
  {
   "cell_type": "code",
   "execution_count": 3,
   "metadata": {},
   "outputs": [
    {
     "name": "stdout",
     "output_type": "stream",
     "text": [
      "Python 3.9.7\n"
     ]
    }
   ],
   "source": [
    "!python --version"
   ]
  },
  {
   "cell_type": "code",
   "execution_count": 4,
   "metadata": {},
   "outputs": [],
   "source": [
    "import numpy as np\n",
    "import pandas as pd"
   ]
  },
  {
   "cell_type": "code",
   "execution_count": 9,
   "metadata": {},
   "outputs": [
    {
     "ename": "FileNotFoundError",
     "evalue": "[WinError 2] The system cannot find the file specified: '../Week 3 -Project 1'",
     "output_type": "error",
     "traceback": [
      "\u001b[1;31m---------------------------------------------------------------------------\u001b[0m",
      "\u001b[1;31mFileNotFoundError\u001b[0m                         Traceback (most recent call last)",
      "\u001b[1;32m~\\AppData\\Local\\Temp/ipykernel_11032/2118140735.py\u001b[0m in \u001b[0;36m<module>\u001b[1;34m\u001b[0m\n\u001b[0;32m      1\u001b[0m \u001b[1;32mimport\u001b[0m \u001b[0mos\u001b[0m\u001b[1;33m\u001b[0m\u001b[1;33m\u001b[0m\u001b[0m\n\u001b[1;32m----> 2\u001b[1;33m \u001b[0mos\u001b[0m\u001b[1;33m.\u001b[0m\u001b[0mchdir\u001b[0m\u001b[1;33m(\u001b[0m\u001b[1;34m'../Week 3 -Project 1'\u001b[0m\u001b[1;33m)\u001b[0m\u001b[1;33m\u001b[0m\u001b[1;33m\u001b[0m\u001b[0m\n\u001b[0m",
      "\u001b[1;31mFileNotFoundError\u001b[0m: [WinError 2] The system cannot find the file specified: '../Week 3 -Project 1'"
     ]
    }
   ],
   "source": [
    "import os\n",
    "os.chdir('../Week 3 -Project 1')"
   ]
  },
  {
   "cell_type": "code",
   "execution_count": 5,
   "metadata": {},
   "outputs": [],
   "source": [
    "dataset = pd.read_csv('dataset.csv')"
   ]
  },
  {
   "cell_type": "code",
   "execution_count": 6,
   "metadata": {},
   "outputs": [
    {
     "data": {
      "text/plain": [
       "<bound method NDFrame.head of     Index   Age      Salary  Rating       Location  Established Easy Apply\n",
       "0       0  44.0   $44k-$99k     5.4       India,In         1999       TRUE\n",
       "1       1  66.0   $55k-$66k     3.5    New York,Ny         2002       TRUE\n",
       "2       2   NaN   $77k-$89k    -1.0    New York,Ny           -1         -1\n",
       "3       3  64.0   $44k-$99k     4.4       India In         1988         -1\n",
       "4       4  25.0   $44k-$99k     6.4  Australia Aus         2002         -1\n",
       "5       5  44.0   $77k-$89k     1.4       India,In         1999       TRUE\n",
       "6       6  21.0   $44k-$99k     0.0    New York,Ny           -1         -1\n",
       "7       7  44.0   $44k-$99k    -1.0  Australia Aus           -1         -1\n",
       "8       8  35.0   $44k-$99k     5.4    New York,Ny           -1         -1\n",
       "9       9  22.0   $44k-$99k     7.7       India,In           -1       TRUE\n",
       "10     10  55.0   $10k-$49k     5.4       India,In         2008       TRUE\n",
       "11     11  44.0   $10k-$49k     6.7       India,In         2009         -1\n",
       "12     12   NaN   $44k-$99k     0.0       India,In         1999         -1\n",
       "13     13  25.0   $44k-$99k    -1.0  Australia Aus         2019       TRUE\n",
       "14     14  66.0   $44k-$99k     4.0  Australia Aus         2020       TRUE\n",
       "15     15  44.0  $88k-$101k     3.0  Australia Aus         1999         -1\n",
       "16     16  19.0   $19k-$40k     4.5       India,In         1984         -1\n",
       "17     17   NaN   $44k-$99k     5.3    New York,Ny         1943       TRUE\n",
       "18     18  35.0   $44k-$99k     6.7    New York,Ny         1954       TRUE\n",
       "19     19  32.0   $44k-$99k     3.3    New York,Ny         1955       TRUE\n",
       "20     20   NaN   $44k-$99k     5.7    New York,Ny         1944       TRUE\n",
       "21     21  35.0   $44k-$99k     5.0    New York,Ny         1946         -1\n",
       "22     22  19.0   $55k-$66k     7.8    New York,Ny         1988       TRUE\n",
       "23     23   NaN   $44k-$99k     2.4    New York,Ny         1999       TRUE\n",
       "24     24  13.0   $44k-$99k    -1.0    New York,Ny         1987         -1\n",
       "25     25  55.0   $44k-$99k     0.0  Australia Aus         1980       TRUE\n",
       "26     26   NaN   $55k-$66k     NaN       India,In         1934       TRUE\n",
       "27     27  52.0   $44k-$99k     5.4       India,In         1935         -1\n",
       "28     28   NaN   $39k-$88k     3.4  Australia Aus         1932         -1>"
      ]
     },
     "execution_count": 6,
     "metadata": {},
     "output_type": "execute_result"
    }
   ],
   "source": [
    "dataset.head"
   ]
  },
  {
   "cell_type": "code",
   "execution_count": null,
   "metadata": {},
   "outputs": [],
   "source": []
  }
 ],
 "metadata": {
  "kernelspec": {
   "display_name": "Python 3 (ipykernel)",
   "language": "python",
   "name": "python3"
  },
  "language_info": {
   "codemirror_mode": {
    "name": "ipython",
    "version": 3
   },
   "file_extension": ".py",
   "mimetype": "text/x-python",
   "name": "python",
   "nbconvert_exporter": "python",
   "pygments_lexer": "ipython3",
   "version": "3.9.7"
  }
 },
 "nbformat": 4,
 "nbformat_minor": 2
}
